{
 "cells": [
  {
   "cell_type": "markdown",
   "id": "a9162e1d-a9d4-4276-bfe4-b9438c03c004",
   "metadata": {},
   "source": [
    "# Data Science Tools and Ecosystem"
   ]
  },
  {
   "cell_type": "markdown",
   "id": "74a2624f-06ef-46e0-9bf1-0abced3e6da6",
   "metadata": {},
   "source": [
    "# In this notebook, Data Science Tools and Ecosystem are summarized."
   ]
  },
  {
   "cell_type": "markdown",
   "id": "c9e9fe15-5bdf-4f93-aaeb-169215b50d3b",
   "metadata": {},
   "source": [
    "**Objectives:**\n",
    "* Create different levels of headers using markdown cells\n",
    "* Create a numbered list using markdown cells\n",
    "* Create an unordered bulletpoint list using markdown cells\n",
    "* Create a table using markdown cells"
   ]
  },
  {
   "cell_type": "markdown",
   "id": "b2acf208-d083-4957-a62a-0fe31a3b39a9",
   "metadata": {},
   "source": [
    "# Some of the popular languages that Data Scientists use are:\n",
    "1. Python\n",
    "2. R\n",
    "3. Julia"
   ]
  },
  {
   "cell_type": "markdown",
   "id": "7c7c6ff7-c8e9-4dd5-9d4d-dd47f6b8db07",
   "metadata": {},
   "source": [
    "# Some of the commonly used libraries used by Data Scientists include:\n",
    "1. Pandas\n",
    "2. NumPy\n",
    "3. Matplotlib"
   ]
  },
  {
   "cell_type": "markdown",
   "id": "fdce6e78-2759-42a1-8b97-72eab73092da",
   "metadata": {},
   "source": [
    "| Data Science Tools |\n",
    "| -------------------|\n",
    "| Jupyter Notebooks |\n",
    "| Apache Zeppelin |\n",
    "| RStudio |"
   ]
  },
  {
   "cell_type": "markdown",
   "id": "a2bfe9f5-d226-4077-8222-e1a1a7a01424",
   "metadata": {},
   "source": [
    "### Below are a few examples of evaluating arithmetic expressions in Python"
   ]
  },
  {
   "cell_type": "code",
   "execution_count": 2,
   "id": "12a4e78d-2f3d-46a4-9ac1-eb007598fe93",
   "metadata": {},
   "outputs": [
    {
     "data": {
      "text/plain": [
       "17"
      ]
     },
     "execution_count": 2,
     "metadata": {},
     "output_type": "execute_result"
    }
   ],
   "source": [
    "# This is a simple arithmetic expression to multiply and then add integers.\n",
    "(3*4)+5\n"
   ]
  },
  {
   "cell_type": "code",
   "execution_count": 5,
   "id": "6c889a5e-dc43-4859-ab58-df4c06e00827",
   "metadata": {},
   "outputs": [
    {
     "data": {
      "text/plain": [
       "3.3333333333333335"
      ]
     },
     "execution_count": 5,
     "metadata": {},
     "output_type": "execute_result"
    }
   ],
   "source": [
    "# This will convert 200 minutes to hours by dividing by 60\n",
    "200 / 60"
   ]
  },
  {
   "cell_type": "markdown",
   "id": "dbea1898-15b6-4415-bac3-b796218d9dd7",
   "metadata": {},
   "source": [
    "## Author\n",
    "Ali"
   ]
  },
  {
   "cell_type": "code",
   "execution_count": null,
   "id": "e2632a15-328b-4ceb-a1bd-b54f68d9a6a1",
   "metadata": {},
   "outputs": [],
   "source": []
  }
 ],
 "metadata": {
  "kernelspec": {
   "display_name": "Python 3 (ipykernel)",
   "language": "python",
   "name": "python3"
  },
  "language_info": {
   "codemirror_mode": {
    "name": "ipython",
    "version": 3
   },
   "file_extension": ".py",
   "mimetype": "text/x-python",
   "name": "python",
   "nbconvert_exporter": "python",
   "pygments_lexer": "ipython3",
   "version": "3.11.7"
  }
 },
 "nbformat": 4,
 "nbformat_minor": 5
}
